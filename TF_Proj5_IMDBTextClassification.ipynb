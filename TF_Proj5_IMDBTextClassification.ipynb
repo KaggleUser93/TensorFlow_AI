{
  "nbformat": 4,
  "nbformat_minor": 0,
  "metadata": {
    "colab": {
      "name": "TF_Proj5_IMDBTextClassification.ipynb",
      "version": "0.3.2",
      "provenance": [],
      "include_colab_link": true
    },
    "kernelspec": {
      "name": "python3",
      "display_name": "Python 3"
    }
  },
  "cells": [
    {
      "cell_type": "markdown",
      "metadata": {
        "id": "view-in-github",
        "colab_type": "text"
      },
      "source": [
        "<a href=\"https://colab.research.google.com/github/KaggleUser93/TensorFlow_AI/blob/master/TF_Proj5_IMDBTextClassification.ipynb\" target=\"_parent\"><img src=\"https://colab.research.google.com/assets/colab-badge.svg\" alt=\"Open In Colab\"/></a>"
      ]
    },
    {
      "cell_type": "code",
      "metadata": {
        "id": "isB2r-vNe8ie",
        "colab_type": "code",
        "colab": {
          "base_uri": "https://localhost:8080/",
          "height": 68
        },
        "outputId": "43fa7c1f-4176-4e13-d97a-746dd7e2ee91"
      },
      "source": [
        "from __future__ import absolute_import, division, print_function\n",
        "\n",
        "import tensorflow as tf\n",
        "from tensorflow import keras\n",
        "\n",
        "!pip install numpy==1.16.2\n",
        "import numpy as np\n",
        "\n",
        "print(tf.__version__)\n",
        "print(np.__version__)"
      ],
      "execution_count": 2,
      "outputs": [
        {
          "output_type": "stream",
          "text": [
            "Requirement already satisfied: numpy==1.16.2 in /usr/local/lib/python3.6/dist-packages (1.16.2)\n",
            "1.13.1\n",
            "1.16.2\n"
          ],
          "name": "stdout"
        }
      ]
    },
    {
      "cell_type": "code",
      "metadata": {
        "colab_type": "code",
        "id": "Cn-ClbPtggiz",
        "colab": {}
      },
      "source": [
        "imdb = keras.datasets.imdb\n",
        "\n",
        "(train_data, train_labels), (test_data, test_labels) = imdb.load_data(num_words=10000)"
      ],
      "execution_count": 0,
      "outputs": []
    },
    {
      "cell_type": "code",
      "metadata": {
        "id": "hfskDrL9hN9s",
        "colab_type": "code",
        "colab": {
          "base_uri": "https://localhost:8080/",
          "height": 34
        },
        "outputId": "2438344f-771a-4395-9f4b-392e14cb7856"
      },
      "source": [
        "print(\"Training entries: {}, labels: {}\".format(len(train_data), len(train_labels)))"
      ],
      "execution_count": 4,
      "outputs": [
        {
          "output_type": "stream",
          "text": [
            "Training entries: 25000, labels: 25000\n"
          ],
          "name": "stdout"
        }
      ]
    },
    {
      "cell_type": "code",
      "metadata": {
        "id": "9_242TtAhUgE",
        "colab_type": "code",
        "colab": {
          "base_uri": "https://localhost:8080/",
          "height": 74
        },
        "outputId": "db5340cd-694f-4945-e5fa-2e9a784cdbc3"
      },
      "source": [
        "print(train_data[0])"
      ],
      "execution_count": 5,
      "outputs": [
        {
          "output_type": "stream",
          "text": [
            "[1, 14, 22, 16, 43, 530, 973, 1622, 1385, 65, 458, 4468, 66, 3941, 4, 173, 36, 256, 5, 25, 100, 43, 838, 112, 50, 670, 2, 9, 35, 480, 284, 5, 150, 4, 172, 112, 167, 2, 336, 385, 39, 4, 172, 4536, 1111, 17, 546, 38, 13, 447, 4, 192, 50, 16, 6, 147, 2025, 19, 14, 22, 4, 1920, 4613, 469, 4, 22, 71, 87, 12, 16, 43, 530, 38, 76, 15, 13, 1247, 4, 22, 17, 515, 17, 12, 16, 626, 18, 2, 5, 62, 386, 12, 8, 316, 8, 106, 5, 4, 2223, 5244, 16, 480, 66, 3785, 33, 4, 130, 12, 16, 38, 619, 5, 25, 124, 51, 36, 135, 48, 25, 1415, 33, 6, 22, 12, 215, 28, 77, 52, 5, 14, 407, 16, 82, 2, 8, 4, 107, 117, 5952, 15, 256, 4, 2, 7, 3766, 5, 723, 36, 71, 43, 530, 476, 26, 400, 317, 46, 7, 4, 2, 1029, 13, 104, 88, 4, 381, 15, 297, 98, 32, 2071, 56, 26, 141, 6, 194, 7486, 18, 4, 226, 22, 21, 134, 476, 26, 480, 5, 144, 30, 5535, 18, 51, 36, 28, 224, 92, 25, 104, 4, 226, 65, 16, 38, 1334, 88, 12, 16, 283, 5, 16, 4472, 113, 103, 32, 15, 16, 5345, 19, 178, 32]\n"
          ],
          "name": "stdout"
        }
      ]
    },
    {
      "cell_type": "code",
      "metadata": {
        "id": "d6v03ch9hcBm",
        "colab_type": "code",
        "colab": {
          "base_uri": "https://localhost:8080/",
          "height": 34
        },
        "outputId": "4fdec6f1-a0d3-4d9c-bcbb-5d7552da6eef"
      },
      "source": [
        "len(train_data[0]), len(train_data[1])"
      ],
      "execution_count": 6,
      "outputs": [
        {
          "output_type": "execute_result",
          "data": {
            "text/plain": [
              "(218, 189)"
            ]
          },
          "metadata": {
            "tags": []
          },
          "execution_count": 6
        }
      ]
    },
    {
      "cell_type": "code",
      "metadata": {
        "id": "K4AsDucdhi_m",
        "colab_type": "code",
        "colab": {
          "base_uri": "https://localhost:8080/",
          "height": 51
        },
        "outputId": "50fda817-4754-4e4f-c62b-dd6f8ee144f7"
      },
      "source": [
        "# A dictionary mapping words to an integer index\n",
        "word_index = imdb.get_word_index()\n",
        "\n",
        "# The first indices are reserved\n",
        "word_index = {k:(v+3) for k,v in word_index.items()} \n",
        "word_index[\"<PAD>\"] = 0\n",
        "word_index[\"<START>\"] = 1\n",
        "word_index[\"<UNK>\"] = 2  # unknown\n",
        "word_index[\"<UNUSED>\"] = 3\n",
        "\n",
        "reverse_word_index = dict([(value, key) for (key, value) in word_index.items()])\n",
        "\n",
        "def decode_review(text):\n",
        "    return ' '.join([reverse_word_index.get(i, '?') for i in text])"
      ],
      "execution_count": 7,
      "outputs": [
        {
          "output_type": "stream",
          "text": [
            "Downloading data from https://storage.googleapis.com/tensorflow/tf-keras-datasets/imdb_word_index.json\n",
            "1646592/1641221 [==============================] - 0s 0us/step\n"
          ],
          "name": "stdout"
        }
      ]
    },
    {
      "cell_type": "code",
      "metadata": {
        "id": "nh_zyC0QiPp3",
        "colab_type": "code",
        "colab": {
          "base_uri": "https://localhost:8080/",
          "height": 74
        },
        "outputId": "52dca0de-aa39-40d5-b1bf-390a703a0f8e"
      },
      "source": [
        "decode_review(train_data[3])"
      ],
      "execution_count": 9,
      "outputs": [
        {
          "output_type": "execute_result",
          "data": {
            "text/plain": [
              "\"<START> the <UNK> <UNK> at storytelling the traditional sort many years after the event i can still see in my <UNK> eye an elderly lady my friend's mother retelling the battle of <UNK> she makes the characters come alive her passion is that of an eye witness one to the events on the <UNK> heath a mile or so from where she lives br br of course it happened many years before she was born but you wouldn't guess from the way she tells it the same story is told in bars the length and <UNK> of scotland as i discussed it with a friend one night in <UNK> a local cut in to give his version the discussion continued to closing time br br stories passed down like this become part of our being who doesn't remember the stories our parents told us when we were children they become our invisible world and as we grow older they maybe still serve as inspiration or as an emotional <UNK> fact and fiction blend with <UNK> role models warning stories <UNK> magic and mystery br br my name is <UNK> like my grandfather and his grandfather before him our protagonist introduces himself to us and also introduces the story that stretches back through generations it produces stories within stories stories that evoke the <UNK> wonder of scotland its rugged mountains <UNK> in <UNK> the stuff of legend yet <UNK> is <UNK> in reality this is what gives it its special charm it has a rough beauty and authenticity <UNK> with some of the finest <UNK> singing you will ever hear br br <UNK> <UNK> visits his grandfather in hospital shortly before his death he burns with frustration part of him <UNK> to be in the twenty first century to hang out in <UNK> but he is raised on the western <UNK> among a <UNK> speaking community br br yet there is a deeper conflict within him he <UNK> to know the truth the truth behind his <UNK> ancient stories where does fiction end and he wants to know the truth behind the death of his parents br br he is pulled to make a last <UNK> journey to the <UNK> of one of <UNK> most <UNK> mountains can the truth be told or is it all in stories br br in this story about stories we <UNK> bloody battles <UNK> lovers the <UNK> of old and the sometimes more <UNK> <UNK> of accepted truth in doing so we each connect with <UNK> as he lives the story of his own life br br <UNK> the <UNK> <UNK> is probably the most honest <UNK> and genuinely beautiful film of scotland ever made like <UNK> i got slightly annoyed with the <UNK> of hanging stories on more stories but also like <UNK> i <UNK> this once i saw the <UNK> picture ' forget the box office <UNK> of braveheart and its like you might even <UNK> the <UNK> famous <UNK> of the wicker man to see a film that is true to scotland this one is probably unique if you maybe <UNK> on it deeply enough you might even re <UNK> the power of storytelling and the age old question of whether there are some truths that cannot be told but only experienced\""
            ]
          },
          "metadata": {
            "tags": []
          },
          "execution_count": 9
        }
      ]
    },
    {
      "cell_type": "code",
      "metadata": {
        "id": "tC8AdQy4iscs",
        "colab_type": "code",
        "colab": {}
      },
      "source": [
        "train_data = keras.preprocessing.sequence.pad_sequences(train_data,\n",
        "                                                        value=word_index[\"<PAD>\"],\n",
        "                                                        padding='post',\n",
        "                                                        maxlen=256)\n",
        "\n",
        "test_data = keras.preprocessing.sequence.pad_sequences(test_data,\n",
        "                                                       value=word_index[\"<PAD>\"],\n",
        "                                                       padding='post',\n",
        "                                                       maxlen=256)"
      ],
      "execution_count": 0,
      "outputs": []
    },
    {
      "cell_type": "code",
      "metadata": {
        "id": "aiTOLuRIizWc",
        "colab_type": "code",
        "colab": {
          "base_uri": "https://localhost:8080/",
          "height": 34
        },
        "outputId": "b15ea31a-b0aa-409c-e5c6-b6099aff4280"
      },
      "source": [
        "len(train_data[1]), len(test_data[1])"
      ],
      "execution_count": 12,
      "outputs": [
        {
          "output_type": "execute_result",
          "data": {
            "text/plain": [
              "(256, 256)"
            ]
          },
          "metadata": {
            "tags": []
          },
          "execution_count": 12
        }
      ]
    },
    {
      "cell_type": "code",
      "metadata": {
        "id": "tK9Nopsci7pt",
        "colab_type": "code",
        "colab": {
          "base_uri": "https://localhost:8080/",
          "height": 340
        },
        "outputId": "7e4fed2c-a500-4a30-b398-c34463fb5a8e"
      },
      "source": [
        "print(train_data[0])"
      ],
      "execution_count": 13,
      "outputs": [
        {
          "output_type": "stream",
          "text": [
            "[   1   14   22   16   43  530  973 1622 1385   65  458 4468   66 3941\n",
            "    4  173   36  256    5   25  100   43  838  112   50  670    2    9\n",
            "   35  480  284    5  150    4  172  112  167    2  336  385   39    4\n",
            "  172 4536 1111   17  546   38   13  447    4  192   50   16    6  147\n",
            " 2025   19   14   22    4 1920 4613  469    4   22   71   87   12   16\n",
            "   43  530   38   76   15   13 1247    4   22   17  515   17   12   16\n",
            "  626   18    2    5   62  386   12    8  316    8  106    5    4 2223\n",
            " 5244   16  480   66 3785   33    4  130   12   16   38  619    5   25\n",
            "  124   51   36  135   48   25 1415   33    6   22   12  215   28   77\n",
            "   52    5   14  407   16   82    2    8    4  107  117 5952   15  256\n",
            "    4    2    7 3766    5  723   36   71   43  530  476   26  400  317\n",
            "   46    7    4    2 1029   13  104   88    4  381   15  297   98   32\n",
            " 2071   56   26  141    6  194 7486   18    4  226   22   21  134  476\n",
            "   26  480    5  144   30 5535   18   51   36   28  224   92   25  104\n",
            "    4  226   65   16   38 1334   88   12   16  283    5   16 4472  113\n",
            "  103   32   15   16 5345   19  178   32    0    0    0    0    0    0\n",
            "    0    0    0    0    0    0    0    0    0    0    0    0    0    0\n",
            "    0    0    0    0    0    0    0    0    0    0    0    0    0    0\n",
            "    0    0    0    0]\n"
          ],
          "name": "stdout"
        }
      ]
    },
    {
      "cell_type": "code",
      "metadata": {
        "id": "yyf1m-b6jG-u",
        "colab_type": "code",
        "colab": {
          "base_uri": "https://localhost:8080/",
          "height": 363
        },
        "outputId": "d72e2947-8d6d-4868-ab2f-f2a8c2fc6fbd"
      },
      "source": [
        "# input shape is the vocabulary count used for the movie reviews (10,000 words)\n",
        "vocab_size = 10000\n",
        "\n",
        "model = keras.Sequential()\n",
        "model.add(keras.layers.Embedding(vocab_size, 16))\n",
        "model.add(keras.layers.GlobalAveragePooling1D())\n",
        "model.add(keras.layers.Dense(16, activation=tf.nn.relu))\n",
        "model.add(keras.layers.Dense(1, activation=tf.nn.sigmoid))\n",
        "\n",
        "model.summary()"
      ],
      "execution_count": 14,
      "outputs": [
        {
          "output_type": "stream",
          "text": [
            "WARNING:tensorflow:From /usr/local/lib/python3.6/dist-packages/tensorflow/python/ops/resource_variable_ops.py:435: colocate_with (from tensorflow.python.framework.ops) is deprecated and will be removed in a future version.\n",
            "Instructions for updating:\n",
            "Colocations handled automatically by placer.\n",
            "_________________________________________________________________\n",
            "Layer (type)                 Output Shape              Param #   \n",
            "=================================================================\n",
            "embedding (Embedding)        (None, None, 16)          160000    \n",
            "_________________________________________________________________\n",
            "global_average_pooling1d (Gl (None, 16)                0         \n",
            "_________________________________________________________________\n",
            "dense (Dense)                (None, 16)                272       \n",
            "_________________________________________________________________\n",
            "dense_1 (Dense)              (None, 1)                 17        \n",
            "=================================================================\n",
            "Total params: 160,289\n",
            "Trainable params: 160,289\n",
            "Non-trainable params: 0\n",
            "_________________________________________________________________\n"
          ],
          "name": "stdout"
        }
      ]
    },
    {
      "cell_type": "code",
      "metadata": {
        "id": "QQTeEf47jiRZ",
        "colab_type": "code",
        "colab": {}
      },
      "source": [
        "model.compile(optimizer='adam',\n",
        "              loss='binary_crossentropy',\n",
        "              metrics=['acc'])"
      ],
      "execution_count": 0,
      "outputs": []
    },
    {
      "cell_type": "code",
      "metadata": {
        "id": "xd0XFD2Jjrk7",
        "colab_type": "code",
        "colab": {}
      },
      "source": [
        "x_val = train_data[:10000]\n",
        "partial_x_train = train_data[10000:]\n",
        "\n",
        "y_val = train_labels[:10000]\n",
        "partial_y_train = train_labels[10000:]"
      ],
      "execution_count": 0,
      "outputs": []
    },
    {
      "cell_type": "code",
      "metadata": {
        "id": "aSOTvxr7j1UY",
        "colab_type": "code",
        "colab": {
          "base_uri": "https://localhost:8080/",
          "height": 1394
        },
        "outputId": "12528fc5-ab5d-41b4-b71c-6d57048adfed"
      },
      "source": [
        "history = model.fit(partial_x_train,\n",
        "                    partial_y_train,\n",
        "                    epochs=40,\n",
        "                    batch_size=512,\n",
        "                    validation_data=(x_val, y_val),\n",
        "                    verbose=1)"
      ],
      "execution_count": 26,
      "outputs": [
        {
          "output_type": "stream",
          "text": [
            "Train on 15000 samples, validate on 10000 samples\n",
            "Epoch 1/40\n",
            "15000/15000 [==============================] - 1s 63us/sample - loss: 0.0019 - acc: 0.9999 - val_loss: 0.8038 - val_acc: 0.8591\n",
            "Epoch 2/40\n",
            "15000/15000 [==============================] - 1s 69us/sample - loss: 0.0019 - acc: 0.9999 - val_loss: 0.8066 - val_acc: 0.8593\n",
            "Epoch 3/40\n",
            "15000/15000 [==============================] - 1s 59us/sample - loss: 0.0018 - acc: 0.9999 - val_loss: 0.8098 - val_acc: 0.8589\n",
            "Epoch 4/40\n",
            "15000/15000 [==============================] - 1s 59us/sample - loss: 0.0018 - acc: 0.9999 - val_loss: 0.8128 - val_acc: 0.8594\n",
            "Epoch 5/40\n",
            "15000/15000 [==============================] - 1s 54us/sample - loss: 0.0017 - acc: 0.9999 - val_loss: 0.8162 - val_acc: 0.8592\n",
            "Epoch 6/40\n",
            "15000/15000 [==============================] - 1s 51us/sample - loss: 0.0017 - acc: 0.9999 - val_loss: 0.8213 - val_acc: 0.8593\n",
            "Epoch 7/40\n",
            "15000/15000 [==============================] - 1s 51us/sample - loss: 0.0016 - acc: 0.9999 - val_loss: 0.8228 - val_acc: 0.8591\n",
            "Epoch 8/40\n",
            "15000/15000 [==============================] - 1s 52us/sample - loss: 0.0016 - acc: 0.9999 - val_loss: 0.8274 - val_acc: 0.8589\n",
            "Epoch 9/40\n",
            "15000/15000 [==============================] - 1s 51us/sample - loss: 0.0016 - acc: 0.9999 - val_loss: 0.8314 - val_acc: 0.8592\n",
            "Epoch 10/40\n",
            "15000/15000 [==============================] - 1s 51us/sample - loss: 0.0015 - acc: 0.9999 - val_loss: 0.8333 - val_acc: 0.8588\n",
            "Epoch 11/40\n",
            "15000/15000 [==============================] - 1s 51us/sample - loss: 0.0015 - acc: 0.9999 - val_loss: 0.8373 - val_acc: 0.8586\n",
            "Epoch 12/40\n",
            "15000/15000 [==============================] - 1s 51us/sample - loss: 0.0014 - acc: 0.9999 - val_loss: 0.8396 - val_acc: 0.8588\n",
            "Epoch 13/40\n",
            "15000/15000 [==============================] - 1s 52us/sample - loss: 0.0014 - acc: 0.9999 - val_loss: 0.8431 - val_acc: 0.8591\n",
            "Epoch 14/40\n",
            "15000/15000 [==============================] - 1s 51us/sample - loss: 0.0013 - acc: 0.9999 - val_loss: 0.8473 - val_acc: 0.8590\n",
            "Epoch 15/40\n",
            "15000/15000 [==============================] - 1s 51us/sample - loss: 0.0013 - acc: 1.0000 - val_loss: 0.8488 - val_acc: 0.8589\n",
            "Epoch 16/40\n",
            "15000/15000 [==============================] - 1s 52us/sample - loss: 0.0013 - acc: 0.9999 - val_loss: 0.8537 - val_acc: 0.8587\n",
            "Epoch 17/40\n",
            "15000/15000 [==============================] - 1s 51us/sample - loss: 0.0013 - acc: 0.9999 - val_loss: 0.8551 - val_acc: 0.8584\n",
            "Epoch 18/40\n",
            "15000/15000 [==============================] - 1s 52us/sample - loss: 0.0012 - acc: 0.9999 - val_loss: 0.8589 - val_acc: 0.8589\n",
            "Epoch 19/40\n",
            "15000/15000 [==============================] - 1s 51us/sample - loss: 0.0012 - acc: 0.9999 - val_loss: 0.8617 - val_acc: 0.8589\n",
            "Epoch 20/40\n",
            "15000/15000 [==============================] - 1s 51us/sample - loss: 0.0011 - acc: 0.9999 - val_loss: 0.8657 - val_acc: 0.8589\n",
            "Epoch 21/40\n",
            "15000/15000 [==============================] - 1s 51us/sample - loss: 0.0011 - acc: 0.9999 - val_loss: 0.8679 - val_acc: 0.8583\n",
            "Epoch 22/40\n",
            "15000/15000 [==============================] - 1s 51us/sample - loss: 0.0011 - acc: 0.9999 - val_loss: 0.8720 - val_acc: 0.8588\n",
            "Epoch 23/40\n",
            "15000/15000 [==============================] - 1s 52us/sample - loss: 0.0011 - acc: 0.9999 - val_loss: 0.8749 - val_acc: 0.8587\n",
            "Epoch 24/40\n",
            "15000/15000 [==============================] - 1s 52us/sample - loss: 0.0011 - acc: 0.9999 - val_loss: 0.8773 - val_acc: 0.8588\n",
            "Epoch 25/40\n",
            "15000/15000 [==============================] - 1s 51us/sample - loss: 0.0010 - acc: 0.9999 - val_loss: 0.8804 - val_acc: 0.8589\n",
            "Epoch 26/40\n",
            "15000/15000 [==============================] - 1s 51us/sample - loss: 9.7757e-04 - acc: 1.0000 - val_loss: 0.8844 - val_acc: 0.8589\n",
            "Epoch 27/40\n",
            "15000/15000 [==============================] - 1s 51us/sample - loss: 9.7095e-04 - acc: 1.0000 - val_loss: 0.8865 - val_acc: 0.8580\n",
            "Epoch 28/40\n",
            "15000/15000 [==============================] - 1s 51us/sample - loss: 9.3586e-04 - acc: 0.9999 - val_loss: 0.8892 - val_acc: 0.8578\n",
            "Epoch 29/40\n",
            "15000/15000 [==============================] - 1s 51us/sample - loss: 9.1582e-04 - acc: 1.0000 - val_loss: 0.8932 - val_acc: 0.8589\n",
            "Epoch 30/40\n",
            "15000/15000 [==============================] - 1s 51us/sample - loss: 8.9200e-04 - acc: 1.0000 - val_loss: 0.8955 - val_acc: 0.8579\n",
            "Epoch 31/40\n",
            "15000/15000 [==============================] - 1s 53us/sample - loss: 8.6646e-04 - acc: 1.0000 - val_loss: 0.8989 - val_acc: 0.8582\n",
            "Epoch 32/40\n",
            "15000/15000 [==============================] - 1s 51us/sample - loss: 8.6338e-04 - acc: 1.0000 - val_loss: 0.9025 - val_acc: 0.8582\n",
            "Epoch 33/40\n",
            "15000/15000 [==============================] - 1s 51us/sample - loss: 8.4910e-04 - acc: 1.0000 - val_loss: 0.9049 - val_acc: 0.8586\n",
            "Epoch 34/40\n",
            "15000/15000 [==============================] - 1s 51us/sample - loss: 8.3338e-04 - acc: 1.0000 - val_loss: 0.9073 - val_acc: 0.8575\n",
            "Epoch 35/40\n",
            "15000/15000 [==============================] - 1s 51us/sample - loss: 8.2380e-04 - acc: 0.9999 - val_loss: 0.9110 - val_acc: 0.8585\n",
            "Epoch 36/40\n",
            "15000/15000 [==============================] - 1s 51us/sample - loss: 7.6824e-04 - acc: 1.0000 - val_loss: 0.9124 - val_acc: 0.8576\n",
            "Epoch 37/40\n",
            "15000/15000 [==============================] - 1s 51us/sample - loss: 7.4567e-04 - acc: 1.0000 - val_loss: 0.9165 - val_acc: 0.8585\n",
            "Epoch 38/40\n",
            "15000/15000 [==============================] - 1s 51us/sample - loss: 7.4069e-04 - acc: 1.0000 - val_loss: 0.9179 - val_acc: 0.8577\n",
            "Epoch 39/40\n",
            "15000/15000 [==============================] - 1s 52us/sample - loss: 7.3257e-04 - acc: 1.0000 - val_loss: 0.9217 - val_acc: 0.8588\n",
            "Epoch 40/40\n",
            "15000/15000 [==============================] - 1s 51us/sample - loss: 8.4326e-04 - acc: 1.0000 - val_loss: 0.9275 - val_acc: 0.8577\n"
          ],
          "name": "stdout"
        }
      ]
    },
    {
      "cell_type": "code",
      "metadata": {
        "id": "sZZNH1dzj_Le",
        "colab_type": "code",
        "colab": {
          "base_uri": "https://localhost:8080/",
          "height": 51
        },
        "outputId": "b265fd51-0a7f-4f75-a829-3c0275c68070"
      },
      "source": [
        "results = model.evaluate(test_data, test_labels)\n",
        "\n",
        "print(results)"
      ],
      "execution_count": 23,
      "outputs": [
        {
          "output_type": "stream",
          "text": [
            "25000/25000 [==============================] - 1s 37us/sample - loss: 0.6202 - acc: 0.8516\n",
            "[0.6202440471315384, 0.85164]\n"
          ],
          "name": "stdout"
        }
      ]
    },
    {
      "cell_type": "code",
      "metadata": {
        "id": "dV236Y9okHdh",
        "colab_type": "code",
        "colab": {
          "base_uri": "https://localhost:8080/",
          "height": 34
        },
        "outputId": "cf169610-3f99-4856-8ac9-8ebfdc48c3ef"
      },
      "source": [
        "history_dict = history.history\n",
        "history_dict.keys()"
      ],
      "execution_count": 19,
      "outputs": [
        {
          "output_type": "execute_result",
          "data": {
            "text/plain": [
              "dict_keys(['loss', 'acc', 'val_loss', 'val_acc'])"
            ]
          },
          "metadata": {
            "tags": []
          },
          "execution_count": 19
        }
      ]
    },
    {
      "cell_type": "code",
      "metadata": {
        "id": "mGWS7HywkOX_",
        "colab_type": "code",
        "colab": {
          "base_uri": "https://localhost:8080/",
          "height": 295
        },
        "outputId": "1a39f5c1-a962-4276-8c95-dcada61d23b2"
      },
      "source": [
        "import matplotlib.pyplot as plt\n",
        "\n",
        "acc = history_dict['acc']\n",
        "val_acc = history_dict['val_acc']\n",
        "loss = history_dict['loss']\n",
        "val_loss = history_dict['val_loss']\n",
        "\n",
        "epochs = range(1, len(acc) + 1)\n",
        "\n",
        "# \"bo\" is for \"blue dot\"\n",
        "plt.plot(epochs, loss, 'bo', label='Training loss')\n",
        "# b is for \"solid blue line\"\n",
        "plt.plot(epochs, val_loss, 'b', label='Validation loss')\n",
        "plt.title('Training and validation loss')\n",
        "plt.xlabel('Epochs')\n",
        "plt.ylabel('Loss')\n",
        "plt.legend()\n",
        "\n",
        "plt.show()"
      ],
      "execution_count": 20,
      "outputs": [
        {
          "output_type": "display_data",
          "data": {
            "image/png": "[encoded data removed]",
            "text/plain": [
              "<Figure size 432x288 with 1 Axes>"
            ]
          },
          "metadata": {
            "tags": []
          }
        }
      ]
    },
    {
      "cell_type": "code",
      "metadata": {
        "id": "hQdgP3CSkWRf",
        "colab_type": "code",
        "colab": {
          "base_uri": "https://localhost:8080/",
          "height": 295
        },
        "outputId": "ea934157-5adc-41b0-8456-ee3fc95949b1"
      },
      "source": [
        "plt.clf()   # clear figure\n",
        "\n",
        "plt.plot(epochs, acc, 'bo', label='Training acc')\n",
        "plt.plot(epochs, val_acc, 'b', label='Validation acc')\n",
        "plt.title('Training and validation accuracy')\n",
        "plt.xlabel('Epochs')\n",
        "plt.ylabel('Accuracy')\n",
        "plt.legend()\n",
        "\n",
        "plt.show()"
      ],
      "execution_count": 21,
      "outputs": [
        {
          "output_type": "display_data",
          "data": {
            "image/png": "[encoded data removed]",
            "text/plain": [
              "<Figure size 432x288 with 1 Axes>"
            ]
          },
          "metadata": {
            "tags": []
          }
        }
      ]
    }
  ]
}